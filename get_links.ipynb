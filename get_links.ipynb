{
 "cells": [
  {
   "cell_type": "code",
   "execution_count": 63,
   "id": "a84c925d-d709-4609-b55a-3bd200a61da4",
   "metadata": {},
   "outputs": [],
   "source": [
    "import pandas as pd\n",
    "from bs4 import BeautifulSoup\n",
    "import requests\n",
    "import re\n",
    "import time"
   ]
  },
  {
   "cell_type": "code",
   "execution_count": 19,
   "id": "ecb7af11-b584-4611-afcd-c653d8ea5ec1",
   "metadata": {},
   "outputs": [],
   "source": [
    "df = pd.read_csv(\"crunchbase_data.csv\")\n",
    "# df"
   ]
  },
  {
   "cell_type": "code",
   "execution_count": 20,
   "id": "75d76c98-8442-41cb-afff-12c6ba114028",
   "metadata": {},
   "outputs": [],
   "source": [
    "name =  list(df[\"Company\"])\n",
    "mystring = 'crunchbase+'\n",
    "mylist = [ mystring + s for s in name]\n",
    "namelist = []\n",
    "for item in mylist:\n",
    "    namelist.append(item.replace(' ','+'))"
   ]
  },
  {
   "cell_type": "code",
   "execution_count": 21,
   "id": "585e0c2e-6be2-46e0-9d6d-4768d14824d2",
   "metadata": {},
   "outputs": [],
   "source": [
    "# The search query\n",
    "query = namelist\n",
    "url = []\n",
    "# The Google search URL\n",
    "for item in namelist:   \n",
    "    url.append(f\"https://www.google.com/search?q={item}\")"
   ]
  },
  {
   "cell_type": "code",
   "execution_count": null,
   "id": "00c1cc24-4096-4383-9e2b-4e6f07ee6c18",
   "metadata": {},
   "outputs": [],
   "source": []
  },
  {
   "cell_type": "code",
   "execution_count": 61,
   "id": "c6915697-7554-4275-be64-d58a14bbfa38",
   "metadata": {},
   "outputs": [
    {
     "ename": "IndexError",
     "evalue": "list index out of range",
     "output_type": "error",
     "traceback": [
      "\u001b[0;31m---------------------------------------------------------------------------\u001b[0m",
      "\u001b[0;31mIndexError\u001b[0m                                Traceback (most recent call last)",
      "Cell \u001b[0;32mIn[61], line 12\u001b[0m\n\u001b[1;32m      9\u001b[0m soup \u001b[38;5;241m=\u001b[39m BeautifulSoup(response\u001b[38;5;241m.\u001b[39mcontent, \u001b[38;5;124m\"\u001b[39m\u001b[38;5;124mhtml.parser\u001b[39m\u001b[38;5;124m\"\u001b[39m)\n\u001b[1;32m     11\u001b[0m \u001b[38;5;66;03m# Find the first search result link using its CSS selector\u001b[39;00m\n\u001b[0;32m---> 12\u001b[0m search_results \u001b[38;5;241m=\u001b[39m \u001b[43msoup\u001b[49m\u001b[38;5;241;43m.\u001b[39;49m\u001b[43mselect\u001b[49m\u001b[43m(\u001b[49m\u001b[38;5;124;43m'\u001b[39;49m\u001b[38;5;124;43m.egMi0.kCrYT > a\u001b[39;49m\u001b[38;5;124;43m'\u001b[39;49m\u001b[43m)\u001b[49m\u001b[43m[\u001b[49m\u001b[38;5;241;43m0\u001b[39;49m\u001b[43m]\u001b[49m\n\u001b[1;32m     13\u001b[0m \u001b[38;5;66;03m#search_results = str(search_results)\u001b[39;00m\n\u001b[1;32m     14\u001b[0m \n\u001b[1;32m     15\u001b[0m \u001b[38;5;66;03m#pattern = r'href=\"/url\\?q=([^&\"]+)'\u001b[39;00m\n\u001b[0;32m   (...)\u001b[0m\n\u001b[1;32m     25\u001b[0m \n\u001b[1;32m     26\u001b[0m \u001b[38;5;66;03m# Print the URL\u001b[39;00m\n\u001b[1;32m     27\u001b[0m \u001b[38;5;28mprint\u001b[39m(search_results)\n",
      "\u001b[0;31mIndexError\u001b[0m: list index out of range"
     ]
    }
   ],
   "source": [
    "# don't need to run this !!!!!!!!!!!!!!!!!!!!!!!!!\n",
    "\n",
    "demo = 'https://www.google.com/search?q=crunchbase+Strava'\n",
    "\n",
    "\n",
    "response = requests.get(demo)\n",
    "\n",
    "# Parse the HTML content of the response with BeautifulSoup\n",
    "soup = BeautifulSoup(response.content, \"html.parser\")\n",
    "\n",
    "# Find the first search result link using its CSS selector\n",
    "search_results = soup.select('.egMi0.kCrYT > a')[0]\n",
    "#search_results = str(search_results)\n",
    "\n",
    "#pattern = r'href=\"/url\\?q=([^&\"]+)'\n",
    "\n",
    "# Use re.search() to find the first match of the pattern in the HTML code\n",
    "#match = re.search(pattern, search_results)\n",
    "\n",
    "# Extract the URL from the match and replace the encoded characters with their original characters\n",
    "#link = match.group(1)\n",
    "\n",
    "# Print the extracted URL\n",
    "#print(link)\n",
    "\n",
    "# Print the URL\n",
    "print(search_results)"
   ]
  },
  {
   "cell_type": "code",
   "execution_count": 62,
   "id": "ce257698-9762-4af9-954a-986d38ad9199",
   "metadata": {},
   "outputs": [],
   "source": [
    "rest_url = url[595:]"
   ]
  },
  {
   "cell_type": "code",
   "execution_count": 39,
   "id": "bb3cb71b-b3b0-4971-840c-cf1d832f279e",
   "metadata": {},
   "outputs": [
    {
     "ename": "IndexError",
     "evalue": "list index out of range",
     "output_type": "error",
     "traceback": [
      "\u001b[0;31m---------------------------------------------------------------------------\u001b[0m",
      "\u001b[0;31mIndexError\u001b[0m                                Traceback (most recent call last)",
      "Cell \u001b[0;32mIn[39], line 8\u001b[0m\n\u001b[1;32m      4\u001b[0m response \u001b[38;5;241m=\u001b[39m requests\u001b[38;5;241m.\u001b[39mget(item)\n\u001b[1;32m      6\u001b[0m soup \u001b[38;5;241m=\u001b[39m BeautifulSoup(response\u001b[38;5;241m.\u001b[39mcontent, \u001b[38;5;124m\"\u001b[39m\u001b[38;5;124mhtml.parser\u001b[39m\u001b[38;5;124m\"\u001b[39m)\n\u001b[0;32m----> 8\u001b[0m search_results \u001b[38;5;241m=\u001b[39m \u001b[43msoup\u001b[49m\u001b[38;5;241;43m.\u001b[39;49m\u001b[43mselect\u001b[49m\u001b[43m(\u001b[49m\u001b[38;5;124;43m'\u001b[39;49m\u001b[38;5;124;43m.egMi0.kCrYT > a\u001b[39;49m\u001b[38;5;124;43m'\u001b[39;49m\u001b[43m)\u001b[49m\u001b[43m[\u001b[49m\u001b[38;5;241;43m0\u001b[39;49m\u001b[43m]\u001b[49m\n\u001b[1;32m     10\u001b[0m search_results \u001b[38;5;241m=\u001b[39m \u001b[38;5;28mstr\u001b[39m(search_results)\n\u001b[1;32m     12\u001b[0m pattern \u001b[38;5;241m=\u001b[39m \u001b[38;5;124mr\u001b[39m\u001b[38;5;124m'\u001b[39m\u001b[38;5;124mhref=\u001b[39m\u001b[38;5;124m\"\u001b[39m\u001b[38;5;124m/url\u001b[39m\u001b[38;5;124m\\\u001b[39m\u001b[38;5;124m?q=([^&\u001b[39m\u001b[38;5;124m\"\u001b[39m\u001b[38;5;124m]+)\u001b[39m\u001b[38;5;124m'\u001b[39m\n",
      "\u001b[0;31mIndexError\u001b[0m: list index out of range"
     ]
    }
   ],
   "source": [
    "link = []\n",
    "\n",
    "\n",
    "st  = 0\n",
    "\n",
    "while st < len(rest_url):\n",
    "    end = min(st + 100, len(rest_url))\n",
    "    for item in rest_url[st:end]:\n",
    "        \n",
    "        response = requests.get(item)\n",
    "        soup = BeautifulSoup(response.content, \"html.parser\")\n",
    "    \n",
    "        search_results = soup.select('.egMi0.kCrYT > a')[0]\n",
    "        search_results = str(search_results)\n",
    "\n",
    "        pattern = r'href=\"/url\\?q=([^&\"]+)'\n",
    "        match = re.search(pattern, search_results)\n",
    "        temp = match.group(1)\n",
    "    \n",
    "        link.append(temp)\n",
    "        st = end\n",
    "        time.sleep(5)\n",
    "\n",
    "\n",
    "\n",
    "\n",
    "# # Send a GET request to the URL and store the response\n",
    "# response = requests.get(url)\n",
    "\n",
    "# # Parse the HTML content of the response with BeautifulSoup\n",
    "# soup = BeautifulSoup(response.content, \"html.parser\")\n",
    "\n",
    "# # Find the first search result link using its CSS selector\n",
    "# search_results = soup.select(\".yuRUbf > a\")\n",
    "# first_result = search_results[0]\n",
    "\n",
    "# # Extract the URL from the link\n",
    "# url = first_result[\"href\"]\n",
    "\n",
    "# # Print the URL\n",
    "# print(url)\n",
    "\n"
   ]
  },
  {
   "cell_type": "code",
   "execution_count": 49,
   "id": "a6c032be-174a-4a45-9799-423d50b20420",
   "metadata": {},
   "outputs": [],
   "source": [
    "len(link)\n",
    "link_595 = link"
   ]
  },
  {
   "cell_type": "code",
   "execution_count": 52,
   "id": "6c0eeb6f-9f86-4805-8e25-67608951d548",
   "metadata": {},
   "outputs": [],
   "source": [
    "name_595 = name[:595]\n",
    "link_595 = link\n",
    "dict = {'Company': name_595, 'link': link_595}\n",
    "df = pd.DataFrame(dict)"
   ]
  },
  {
   "cell_type": "code",
   "execution_count": 54,
   "id": "c1fe7e9a-ea40-4e93-baa7-7d9d73d4641a",
   "metadata": {},
   "outputs": [],
   "source": [
    "df.to_csv('link_595.csv') "
   ]
  }
 ],
 "metadata": {
  "kernelspec": {
   "display_name": "Python [conda env:PIC16B] *",
   "language": "python",
   "name": "conda-env-PIC16B-py"
  },
  "language_info": {
   "codemirror_mode": {
    "name": "ipython",
    "version": 3
   },
   "file_extension": ".py",
   "mimetype": "text/x-python",
   "name": "python",
   "nbconvert_exporter": "python",
   "pygments_lexer": "ipython3",
   "version": "3.8.15"
  }
 },
 "nbformat": 4,
 "nbformat_minor": 5
}
