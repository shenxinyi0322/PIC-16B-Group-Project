{
 "cells": [
  {
   "cell_type": "code",
   "execution_count": 63,
   "id": "a84c925d-d709-4609-b55a-3bd200a61da4",
   "metadata": {},
   "outputs": [],
   "source": [
    "import pandas as pd\n",
    "from bs4 import BeautifulSoup\n",
    "import requests\n",
    "import re\n",
    "import time"
   ]
  },
  {
   "cell_type": "code",
   "execution_count": 86,
   "id": "ecb7af11-b584-4611-afcd-c653d8ea5ec1",
   "metadata": {},
   "outputs": [],
   "source": [
    "df = pd.read_csv(\"crunchbase_data.csv\")\n",
    "# df"
   ]
  },
  {
   "cell_type": "code",
   "execution_count": 87,
   "id": "75d76c98-8442-41cb-afff-12c6ba114028",
   "metadata": {},
   "outputs": [],
   "source": [
    "name =  list(df[\"Company\"])\n",
    "mystring = 'crunchbase+'\n",
    "mylist = [ mystring + s for s in name]\n",
    "namelist = []\n",
    "for item in mylist:\n",
    "    namelist.append(item.replace(' ','+'))"
   ]
  },
  {
   "cell_type": "code",
   "execution_count": 88,
   "id": "585e0c2e-6be2-46e0-9d6d-4768d14824d2",
   "metadata": {},
   "outputs": [],
   "source": [
    "# The search query\n",
    "query = namelist\n",
    "url = []\n",
    "# The Google search URL\n",
    "for item in namelist:   \n",
    "    url.append(f\"https://www.google.com/search?q={item}\")"
   ]
  },
  {
   "cell_type": "code",
   "execution_count": null,
   "id": "00c1cc24-4096-4383-9e2b-4e6f07ee6c18",
   "metadata": {},
   "outputs": [],
   "source": []
  },
  {
   "cell_type": "code",
   "execution_count": 85,
   "id": "c6915697-7554-4275-be64-d58a14bbfa38",
   "metadata": {},
   "outputs": [
    {
     "name": "stdout",
     "output_type": "stream",
     "text": [
      "<a href=\"/url?q=https://www.crunchbase.com/organization/strava&amp;sa=U&amp;ved=2ahUKEwi5zofuw9r9AhVBOkQIHa3BAyAQFnoECAEQAg&amp;usg=AOvVaw3UeEWQbpV64oZSXfuiV6Cv\"><div class=\"DnJfK\"><div class=\"j039Wc\"><h3 class=\"zBAuLc l97dzf\"><div class=\"BNeawe vvjwJb AP7Wnd\">Strava - Crunchbase Company Profile ...</div></h3></div><div class=\"sCuL3\"><div class=\"BNeawe UPmit AP7Wnd lRVwie\">www.crunchbase.com › organization › strava</div></div></div></a>\n"
     ]
    }
   ],
   "source": [
    "# don't need to run this !!!!!!!!!!!!!!!!!!!!!!!!!\n",
    "\n",
    "demo = 'https://www.google.com/search?q=crunchbase+Strava'\n",
    "\n",
    "\n",
    "response = requests.get(demo)\n",
    "\n",
    "# Parse the HTML content of the response with BeautifulSoup\n",
    "soup = BeautifulSoup(response.content, \"html.parser\")\n",
    "\n",
    "# Find the first search result link using its CSS selector\n",
    "search_results = soup.select('.egMi0.kCrYT > a')[0]\n",
    "#search_results = str(search_results)\n",
    "\n",
    "#pattern = r'href=\"/url\\?q=([^&\"]+)'\n",
    "\n",
    "# Use re.search() to find the first match of the pattern in the HTML code\n",
    "#match = re.search(pattern, search_results)\n",
    "\n",
    "# Extract the URL from the match and replace the encoded characters with their original characters\n",
    "#link = match.group(1)\n",
    "\n",
    "# Print the extracted URL\n",
    "#print(link)\n",
    "\n",
    "# Print the URL\n",
    "print(search_results)"
   ]
  },
  {
   "cell_type": "code",
   "execution_count": 89,
   "id": "ce257698-9762-4af9-954a-986d38ad9199",
   "metadata": {},
   "outputs": [],
   "source": [
    "rest_url = url[757:]"
   ]
  },
  {
   "cell_type": "code",
   "execution_count": 90,
   "id": "bb3cb71b-b3b0-4971-840c-cf1d832f279e",
   "metadata": {},
   "outputs": [],
   "source": [
    "link = []\n",
    "\n",
    "st  = 0\n",
    "\n",
    "while st < len(rest_url):\n",
    "    end = min(st + 100, len(rest_url))\n",
    "    for item in rest_url[st:end]:\n",
    "        \n",
    "        # Send a GET request to the URL and store the response\n",
    "        response = requests.get(item)\n",
    "        # Parse the HTML content of the response with BeautifulSoup\n",
    "        soup = BeautifulSoup(response.content, \"html.parser\")\n",
    "    \n",
    "        # Find the first search result link using its CSS selector\n",
    "        search_results = soup.select('.egMi0.kCrYT > a')[0]\n",
    "        search_results = str(search_results)\n",
    "\n",
    "        pattern = r'href=\"/url\\?q=([^&\"]+)'\n",
    "        match = re.search(pattern, search_results)\n",
    "        temp = match.group(1)\n",
    "    \n",
    "        link.append(temp)\n",
    "    st = end\n",
    "    time.sleep(5)\n"
   ]
  },
  {
   "cell_type": "code",
   "execution_count": 98,
   "id": "62a78bd3-e678-4f7b-b56e-834e5127f041",
   "metadata": {},
   "outputs": [],
   "source": [
    "len(link)\n",
    "link_448 = link\n",
    "name_448 = name[757:]\n",
    "dict = {'Company': name_448, 'link': link_448}\n",
    "df = pd.DataFrame(dict)\n"
   ]
  },
  {
   "cell_type": "code",
   "execution_count": 99,
   "id": "271920d1-8f05-4e8a-bed6-352f5e622e77",
   "metadata": {},
   "outputs": [],
   "source": [
    "df.to_csv('link_448.csv', index = False)"
   ]
  },
  {
   "cell_type": "code",
   "execution_count": 49,
   "id": "a6c032be-174a-4a45-9799-423d50b20420",
   "metadata": {},
   "outputs": [],
   "source": [
    "len(link)\n",
    "link_162 = link\n",
    "name_162 = name[595:757]\n",
    "dict = {'Company': name_162, 'link': link_162}\n",
    "df = pd.DataFrame(dict)"
   ]
  },
  {
   "cell_type": "code",
   "execution_count": null,
   "id": "e1ae69a9-5547-4e1d-a06e-0c068147d8f5",
   "metadata": {},
   "outputs": [],
   "source": [
    "df.to_csv('link_162.csv') "
   ]
  },
  {
   "cell_type": "code",
   "execution_count": 52,
   "id": "6c0eeb6f-9f86-4805-8e25-67608951d548",
   "metadata": {},
   "outputs": [],
   "source": [
    "name_595 = name[:595]\n",
    "link_595 = link\n",
    "dict = {'Company': name_595, 'link': link_595}\n",
    "df = pd.DataFrame(dict)"
   ]
  },
  {
   "cell_type": "code",
   "execution_count": 54,
   "id": "c1fe7e9a-ea40-4e93-baa7-7d9d73d4641a",
   "metadata": {},
   "outputs": [],
   "source": [
    "df.to_csv('link_595.csv') "
   ]
  },
  {
   "cell_type": "code",
   "execution_count": 82,
   "id": "024944b3-47f8-43b0-a925-3ce449d3d9bd",
   "metadata": {},
   "outputs": [
    {
     "data": {
      "text/html": [
       "<div>\n",
       "<style scoped>\n",
       "    .dataframe tbody tr th:only-of-type {\n",
       "        vertical-align: middle;\n",
       "    }\n",
       "\n",
       "    .dataframe tbody tr th {\n",
       "        vertical-align: top;\n",
       "    }\n",
       "\n",
       "    .dataframe thead th {\n",
       "        text-align: right;\n",
       "    }\n",
       "</style>\n",
       "<table border=\"1\" class=\"dataframe\">\n",
       "  <thead>\n",
       "    <tr style=\"text-align: right;\">\n",
       "      <th></th>\n",
       "      <th>Company</th>\n",
       "      <th>link</th>\n",
       "    </tr>\n",
       "  </thead>\n",
       "  <tbody>\n",
       "    <tr>\n",
       "      <th>0</th>\n",
       "      <td>ByteDance</td>\n",
       "      <td>https://www.crunchbase.com/organization/bytedance</td>\n",
       "    </tr>\n",
       "    <tr>\n",
       "      <th>1</th>\n",
       "      <td>SpaceX</td>\n",
       "      <td>https://www.crunchbase.com/organization/space-...</td>\n",
       "    </tr>\n",
       "    <tr>\n",
       "      <th>2</th>\n",
       "      <td>SHEIN</td>\n",
       "      <td>https://www.crunchbase.com/organization/shein</td>\n",
       "    </tr>\n",
       "    <tr>\n",
       "      <th>3</th>\n",
       "      <td>Stripe</td>\n",
       "      <td>https://www.crunchbase.com/organization/stripe</td>\n",
       "    </tr>\n",
       "    <tr>\n",
       "      <th>4</th>\n",
       "      <td>Canva</td>\n",
       "      <td>https://www.crunchbase.com/organization/canva</td>\n",
       "    </tr>\n",
       "    <tr>\n",
       "      <th>...</th>\n",
       "      <td>...</td>\n",
       "      <td>...</td>\n",
       "    </tr>\n",
       "    <tr>\n",
       "      <th>752</th>\n",
       "      <td>Betterment</td>\n",
       "      <td>https://www.crunchbase.com/organization/better...</td>\n",
       "    </tr>\n",
       "    <tr>\n",
       "      <th>753</th>\n",
       "      <td>Biofourmis</td>\n",
       "      <td>https://www.crunchbase.com/organization/biofou...</td>\n",
       "    </tr>\n",
       "    <tr>\n",
       "      <th>754</th>\n",
       "      <td>Cava Group</td>\n",
       "      <td>https://www.crunchbase.com/organization/cava-g...</td>\n",
       "    </tr>\n",
       "    <tr>\n",
       "      <th>755</th>\n",
       "      <td>Clipboard Health</td>\n",
       "      <td>https://www.crunchbase.com/organization/clipbo...</td>\n",
       "    </tr>\n",
       "    <tr>\n",
       "      <th>756</th>\n",
       "      <td>CoinTracker</td>\n",
       "      <td>https://www.crunchbase.com/organization/cointr...</td>\n",
       "    </tr>\n",
       "  </tbody>\n",
       "</table>\n",
       "<p>757 rows × 2 columns</p>\n",
       "</div>"
      ],
      "text/plain": [
       "              Company                                               link\n",
       "0           ByteDance  https://www.crunchbase.com/organization/bytedance\n",
       "1              SpaceX  https://www.crunchbase.com/organization/space-...\n",
       "2               SHEIN      https://www.crunchbase.com/organization/shein\n",
       "3              Stripe     https://www.crunchbase.com/organization/stripe\n",
       "4               Canva      https://www.crunchbase.com/organization/canva\n",
       "..                ...                                                ...\n",
       "752        Betterment  https://www.crunchbase.com/organization/better...\n",
       "753        Biofourmis  https://www.crunchbase.com/organization/biofou...\n",
       "754        Cava Group  https://www.crunchbase.com/organization/cava-g...\n",
       "755  Clipboard Health  https://www.crunchbase.com/organization/clipbo...\n",
       "756       CoinTracker  https://www.crunchbase.com/organization/cointr...\n",
       "\n",
       "[757 rows x 2 columns]"
      ]
     },
     "execution_count": 82,
     "metadata": {},
     "output_type": "execute_result"
    }
   ],
   "source": [
    "df1 = pd.read_csv('link_595.csv')\n",
    "df2 = pd.read_csv('link_162.csv')\n",
    "df = df1.merge(df2, how='outer')\n",
    "df = df.drop(df.columns[[0]], axis=1)\n",
    "df"
   ]
  },
  {
   "cell_type": "code",
   "execution_count": 83,
   "id": "a765f0d3-17b0-478d-b83e-68365787c2bb",
   "metadata": {},
   "outputs": [],
   "source": [
    "df.to_csv('link_757.csv', index = False)"
   ]
  },
  {
   "cell_type": "code",
   "execution_count": 119,
   "id": "80595d41-2471-4420-b0f2-b9c3797f21d1",
   "metadata": {},
   "outputs": [
    {
     "data": {
      "text/html": [
       "<div>\n",
       "<style scoped>\n",
       "    .dataframe tbody tr th:only-of-type {\n",
       "        vertical-align: middle;\n",
       "    }\n",
       "\n",
       "    .dataframe tbody tr th {\n",
       "        vertical-align: top;\n",
       "    }\n",
       "\n",
       "    .dataframe thead th {\n",
       "        text-align: right;\n",
       "    }\n",
       "</style>\n",
       "<table border=\"1\" class=\"dataframe\">\n",
       "  <thead>\n",
       "    <tr style=\"text-align: right;\">\n",
       "      <th></th>\n",
       "      <th>Company</th>\n",
       "      <th>link</th>\n",
       "    </tr>\n",
       "  </thead>\n",
       "  <tbody>\n",
       "    <tr>\n",
       "      <th>0</th>\n",
       "      <td>ByteDance</td>\n",
       "      <td>https://www.crunchbase.com/organization/bytedance</td>\n",
       "    </tr>\n",
       "    <tr>\n",
       "      <th>1</th>\n",
       "      <td>SpaceX</td>\n",
       "      <td>https://www.crunchbase.com/organization/space-...</td>\n",
       "    </tr>\n",
       "    <tr>\n",
       "      <th>2</th>\n",
       "      <td>SHEIN</td>\n",
       "      <td>https://www.crunchbase.com/organization/shein</td>\n",
       "    </tr>\n",
       "    <tr>\n",
       "      <th>3</th>\n",
       "      <td>Stripe</td>\n",
       "      <td>https://www.crunchbase.com/organization/stripe</td>\n",
       "    </tr>\n",
       "    <tr>\n",
       "      <th>4</th>\n",
       "      <td>Canva</td>\n",
       "      <td>https://www.crunchbase.com/organization/canva</td>\n",
       "    </tr>\n",
       "    <tr>\n",
       "      <th>...</th>\n",
       "      <td>...</td>\n",
       "      <td>...</td>\n",
       "    </tr>\n",
       "    <tr>\n",
       "      <th>443</th>\n",
       "      <td>Zhaogang</td>\n",
       "      <td>https://www.crunchbase.com/organization/zhaogang</td>\n",
       "    </tr>\n",
       "    <tr>\n",
       "      <th>444</th>\n",
       "      <td>Zhuan Zhuan</td>\n",
       "      <td>https://www.crunchbase.com/organization/zhuan-...</td>\n",
       "    </tr>\n",
       "    <tr>\n",
       "      <th>445</th>\n",
       "      <td>Zihaiguo</td>\n",
       "      <td>https://www.crunchbase.com/organization/zihaiguo</td>\n",
       "    </tr>\n",
       "    <tr>\n",
       "      <th>446</th>\n",
       "      <td>Zopa</td>\n",
       "      <td>https://www.crunchbase.com/organization/zopa</td>\n",
       "    </tr>\n",
       "    <tr>\n",
       "      <th>447</th>\n",
       "      <td>Zwift</td>\n",
       "      <td>https://www.crunchbase.com/organization/zwift</td>\n",
       "    </tr>\n",
       "  </tbody>\n",
       "</table>\n",
       "<p>1205 rows × 2 columns</p>\n",
       "</div>"
      ],
      "text/plain": [
       "         Company                                               link\n",
       "0      ByteDance  https://www.crunchbase.com/organization/bytedance\n",
       "1         SpaceX  https://www.crunchbase.com/organization/space-...\n",
       "2          SHEIN      https://www.crunchbase.com/organization/shein\n",
       "3         Stripe     https://www.crunchbase.com/organization/stripe\n",
       "4          Canva      https://www.crunchbase.com/organization/canva\n",
       "..           ...                                                ...\n",
       "443     Zhaogang   https://www.crunchbase.com/organization/zhaogang\n",
       "444  Zhuan Zhuan  https://www.crunchbase.com/organization/zhuan-...\n",
       "445     Zihaiguo   https://www.crunchbase.com/organization/zihaiguo\n",
       "446         Zopa       https://www.crunchbase.com/organization/zopa\n",
       "447        Zwift      https://www.crunchbase.com/organization/zwift\n",
       "\n",
       "[1205 rows x 2 columns]"
      ]
     },
     "execution_count": 119,
     "metadata": {},
     "output_type": "execute_result"
    }
   ],
   "source": [
    "df1 = pd.read_csv('link_757.csv')\n",
    "df2 = pd.read_csv('link_448.csv')\n",
    "frames = [df1, df2]\n",
    "\n",
    "result = pd.concat(frames)\n",
    "result"
   ]
  },
  {
   "cell_type": "code",
   "execution_count": 120,
   "id": "5fb25514-6ffa-4ba6-ad41-db28245f1331",
   "metadata": {},
   "outputs": [],
   "source": [
    "df.to_csv('crunchbase_links.csv', index = False)"
   ]
  }
 ],
 "metadata": {
  "kernelspec": {
   "display_name": "Python [conda env:PIC16B] *",
   "language": "python",
   "name": "conda-env-PIC16B-py"
  },
  "language_info": {
   "codemirror_mode": {
    "name": "ipython",
    "version": 3
   },
   "file_extension": ".py",
   "mimetype": "text/x-python",
   "name": "python",
   "nbconvert_exporter": "python",
   "pygments_lexer": "ipython3",
   "version": "3.8.15"
  }
 },
 "nbformat": 4,
 "nbformat_minor": 5
}
